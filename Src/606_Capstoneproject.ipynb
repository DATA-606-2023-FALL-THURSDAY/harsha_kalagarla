{
 "cells": [
  {
   "cell_type": "markdown",
   "id": "ea915019",
   "metadata": {},
   "source": [
    "# Pre-owned car Prediction Analysis\n",
    "\n",
    "Car price prediction, driven by data analysis and machine learning, is essential in today's automotive industry. It helps buyers and sellers make informed decisions by estimating a vehicle's value based on factors like make, model, mileage, and market demand. This process benefits consumers, sellers, and industry stakeholders alike."
   ]
  },
  {
   "cell_type": "code",
   "execution_count": 1,
   "id": "6037c260",
   "metadata": {},
   "outputs": [
    {
     "data": {
      "text/html": [
       "<div>\n",
       "<style scoped>\n",
       "    .dataframe tbody tr th:only-of-type {\n",
       "        vertical-align: middle;\n",
       "    }\n",
       "\n",
       "    .dataframe tbody tr th {\n",
       "        vertical-align: top;\n",
       "    }\n",
       "\n",
       "    .dataframe thead th {\n",
       "        text-align: right;\n",
       "    }\n",
       "</style>\n",
       "<table border=\"1\" class=\"dataframe\">\n",
       "  <thead>\n",
       "    <tr style=\"text-align: right;\">\n",
       "      <th></th>\n",
       "      <th>Car_Name,Year,Selling_Price,Present_Price,Kms_Driven,Fuel_Type,Seller_Type,Transmission,Owner</th>\n",
       "    </tr>\n",
       "  </thead>\n",
       "  <tbody>\n",
       "    <tr>\n",
       "      <th>0</th>\n",
       "      <td>ritz,2014,3.35,5.59,27000,Petrol,Dealer,Manual,0</td>\n",
       "    </tr>\n",
       "    <tr>\n",
       "      <th>1</th>\n",
       "      <td>sx4,2013,4.75,9.54,43000,Diesel,Dealer,Manual,0</td>\n",
       "    </tr>\n",
       "    <tr>\n",
       "      <th>2</th>\n",
       "      <td>ciaz,2017,7.25,9.85,6900,Petrol,Dealer,Manual,0</td>\n",
       "    </tr>\n",
       "    <tr>\n",
       "      <th>3</th>\n",
       "      <td>wagon r,2011,2.85,4.15,5200,Petrol,Dealer,Manu...</td>\n",
       "    </tr>\n",
       "    <tr>\n",
       "      <th>4</th>\n",
       "      <td>swift,2014,4.6,6.87,42450,Diesel,Dealer,Manual,0</td>\n",
       "    </tr>\n",
       "    <tr>\n",
       "      <th>...</th>\n",
       "      <td>...</td>\n",
       "    </tr>\n",
       "    <tr>\n",
       "      <th>296</th>\n",
       "      <td>city,2016,9.5,11.6,33988,Diesel,Dealer,Manual,0</td>\n",
       "    </tr>\n",
       "    <tr>\n",
       "      <th>297</th>\n",
       "      <td>brio,2015,4,5.9,60000,Petrol,Dealer,Manual,0</td>\n",
       "    </tr>\n",
       "    <tr>\n",
       "      <th>298</th>\n",
       "      <td>city,2009,3.35,11,87934,Petrol,Dealer,Manual,0</td>\n",
       "    </tr>\n",
       "    <tr>\n",
       "      <th>299</th>\n",
       "      <td>city,2017,11.5,12.5,9000,Diesel,Dealer,Manual,0</td>\n",
       "    </tr>\n",
       "    <tr>\n",
       "      <th>300</th>\n",
       "      <td>brio,2016,5.3,5.9,5464,Petrol,Dealer,Manual,0</td>\n",
       "    </tr>\n",
       "  </tbody>\n",
       "</table>\n",
       "<p>301 rows × 1 columns</p>\n",
       "</div>"
      ],
      "text/plain": [
       "    Car_Name,Year,Selling_Price,Present_Price,Kms_Driven,Fuel_Type,Seller_Type,Transmission,Owner\n",
       "0     ritz,2014,3.35,5.59,27000,Petrol,Dealer,Manual,0                                           \n",
       "1      sx4,2013,4.75,9.54,43000,Diesel,Dealer,Manual,0                                           \n",
       "2      ciaz,2017,7.25,9.85,6900,Petrol,Dealer,Manual,0                                           \n",
       "3    wagon r,2011,2.85,4.15,5200,Petrol,Dealer,Manu...                                           \n",
       "4     swift,2014,4.6,6.87,42450,Diesel,Dealer,Manual,0                                           \n",
       "..                                                 ...                                           \n",
       "296    city,2016,9.5,11.6,33988,Diesel,Dealer,Manual,0                                           \n",
       "297       brio,2015,4,5.9,60000,Petrol,Dealer,Manual,0                                           \n",
       "298     city,2009,3.35,11,87934,Petrol,Dealer,Manual,0                                           \n",
       "299    city,2017,11.5,12.5,9000,Diesel,Dealer,Manual,0                                           \n",
       "300      brio,2016,5.3,5.9,5464,Petrol,Dealer,Manual,0                                           \n",
       "\n",
       "[301 rows x 1 columns]"
      ]
     },
     "execution_count": 1,
     "metadata": {},
     "output_type": "execute_result"
    }
   ],
   "source": [
    "import pandas as pd\n",
    "df = pd.read_csv(\"car_data.csv\")\n",
    "df"
   ]
  },
  {
   "cell_type": "code",
   "execution_count": null,
   "id": "589b67d0",
   "metadata": {},
   "outputs": [],
   "source": []
  }
 ],
 "metadata": {
  "kernelspec": {
   "display_name": "Python 3 (ipykernel)",
   "language": "python",
   "name": "python3"
  },
  "language_info": {
   "codemirror_mode": {
    "name": "ipython",
    "version": 3
   },
   "file_extension": ".py",
   "mimetype": "text/x-python",
   "name": "python",
   "nbconvert_exporter": "python",
   "pygments_lexer": "ipython3",
   "version": "3.10.9"
  }
 },
 "nbformat": 4,
 "nbformat_minor": 5
}
